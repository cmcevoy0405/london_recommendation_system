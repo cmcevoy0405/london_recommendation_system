{
 "cells": [
  {
   "cell_type": "code",
   "execution_count": 2,
   "metadata": {},
   "outputs": [],
   "source": [
    "# Import Libraries\n",
    "import pandas as pd\n",
    "import numpy as np\n",
    "from sklearn.feature_extraction.text import TfidfVectorizer\n",
    "from sklearn.metrics.pairwise import linear_kernel\n"
   ]
  },
  {
   "cell_type": "code",
   "execution_count": 3,
   "metadata": {},
   "outputs": [
    {
     "name": "stdout",
     "output_type": "stream",
     "text": [
      "Index(['address', 'price', 'description', 'bedrooms', 'bathrooms', 'latitude',\n",
      "       'longitude', 'postcode', 'property_id'],\n",
      "      dtype='object')\n",
      "Index(['property_id', 'latitude', 'longitude', 'closest_station', 'distance'], dtype='object')\n",
      "Index(['property_id', 'latitude', 'longitude', 'crime'], dtype='object')\n",
      "Index(['property_id', 'latitude', 'longitude', 'park', 'gym', 'shop'], dtype='object')\n"
     ]
    }
   ],
   "source": [
    "# Load in data, i will need to build a new dataframe, combining features of all them \n",
    "df_properties = pd.read_csv(r\"C:\\Users\\mrice\\OneDrive\\Documents\\Data Science - Callum\\Projects\\Financial Projects\\london_house_prices\\data_gathering\\london_flats.csv\")\n",
    "print(df_properties.columns)\n",
    "\n",
    "df_stations = pd.read_csv(r\"C:\\Users\\mrice\\OneDrive\\Documents\\Data Science - Callum\\Projects\\Financial Projects\\london_house_prices\\data_gathering\\stations.csv\")\n",
    "print(df_stations.columns)\n",
    "\n",
    "df_crime = pd.read_csv(r\"C:\\Users\\mrice\\OneDrive\\Documents\\Data Science - Callum\\Projects\\Financial Projects\\london_house_prices\\data_gathering\\crime_data.csv\")\n",
    "print(df_crime.columns)\n",
    "\n",
    "df_amenities = pd.read_csv(r\"C:\\Users\\mrice\\OneDrive\\Documents\\Data Science - Callum\\Projects\\Financial Projects\\london_house_prices\\data_gathering\\amenities.csv\")\n",
    "print(df_amenities.columns)"
   ]
  },
  {
   "cell_type": "code",
   "execution_count": 4,
   "metadata": {},
   "outputs": [],
   "source": [
    "# Drop duplicate columns\n",
    "df_stations = df_stations.drop(columns=['latitude', 'longitude'], errors = 'ignore')\n",
    "\n",
    "df_crime = df_crime.drop(columns=['latitude', 'longitude'], errors = 'ignore')\n",
    "\n",
    "df_amenities = df_amenities.drop(columns=['latitude', 'longitude'], errors = 'ignore')"
   ]
  },
  {
   "cell_type": "code",
   "execution_count": 5,
   "metadata": {},
   "outputs": [],
   "source": [
    "df_properties['property_id'] = df_properties['property_id'].str.replace(\"\\r\", \"\")"
   ]
  },
  {
   "cell_type": "code",
   "execution_count": 6,
   "metadata": {},
   "outputs": [
    {
     "name": "stdout",
     "output_type": "stream",
     "text": [
      "Index(['address', 'price', 'description', 'bedrooms', 'bathrooms', 'latitude',\n",
      "       'longitude', 'postcode', 'property_id', 'closest_station', 'distance',\n",
      "       'crime', 'park', 'gym', 'shop'],\n",
      "      dtype='object')\n"
     ]
    }
   ],
   "source": [
    "# Merge all dataframes\n",
    "df = pd.merge(df_properties, df_stations, how = 'left', on = 'property_id')\n",
    "\n",
    "df = pd.merge(df, df_crime, how = 'left', on = 'property_id')\n",
    "\n",
    "df = pd.merge(df, df_amenities, how = 'left', on = 'property_id')\n",
    "\n",
    "df = df.drop_duplicates()\n",
    "\n",
    "print(df.columns)\n"
   ]
  },
  {
   "cell_type": "code",
   "execution_count": 7,
   "metadata": {},
   "outputs": [
    {
     "name": "stdout",
     "output_type": "stream",
     "text": [
      "(982, 15)\n"
     ]
    },
    {
     "name": "stderr",
     "output_type": "stream",
     "text": [
      "C:\\Users\\mrice\\AppData\\Local\\Temp\\ipykernel_22988\\1246776736.py:3: FutureWarning: A value is trying to be set on a copy of a DataFrame or Series through chained assignment using an inplace method.\n",
      "The behavior will change in pandas 3.0. This inplace method will never work because the intermediate object on which we are setting values always behaves as a copy.\n",
      "\n",
      "For example, when doing 'df[col].method(value, inplace=True)', try using 'df.method({col: value}, inplace=True)' or df[col] = df[col].method(value) instead, to perform the operation inplace on the original object.\n",
      "\n",
      "\n",
      "  df['distance'].replace([float('inf'), -float('inf')], 2, inplace=True)\n"
     ]
    }
   ],
   "source": [
    "# Handling missing values\n",
    "\n",
    "df['distance'].replace([float('inf'), -float('inf')], 2, inplace=True)\n",
    "\n",
    "df['closest_station'] = df['closest_station'].fillna(\"Unknown\")\n",
    "\n",
    "df['distance'] = df['distance'].fillna(2)\n",
    "\n",
    "print(df.shape)"
   ]
  },
  {
   "cell_type": "code",
   "execution_count": 8,
   "metadata": {},
   "outputs": [
    {
     "name": "stdout",
     "output_type": "stream",
     "text": [
      "Empty DataFrame\n",
      "Columns: [address, price, description, bedrooms, bathrooms, latitude, longitude, postcode, property_id, closest_station, distance, crime, park, gym, shop]\n",
      "Index: []\n"
     ]
    }
   ],
   "source": [
    "print(df[df['distance'] == float('inf')])"
   ]
  },
  {
   "cell_type": "code",
   "execution_count": 9,
   "metadata": {},
   "outputs": [
    {
     "name": "stdout",
     "output_type": "stream",
     "text": [
      "int64\n"
     ]
    }
   ],
   "source": [
    "print(df['price'].dtype)"
   ]
  },
  {
   "cell_type": "code",
   "execution_count": 10,
   "metadata": {},
   "outputs": [],
   "source": [
    "# Make df suitable for user preference\n",
    "df['gym_near'] = df['gym'].apply(lambda x: 0 if x == 'No gym' else 1)\n",
    "df['park_near'] = df['park'].apply(lambda x: 0 if x == 'No park' else 1)\n",
    "df['shop_near'] = df['shop'].apply(lambda x: 0 if x == 'No shop' else 1)\n",
    "\n",
    "# Alter crime column\n",
    "df['crime_rate'] = pd.qcut(df['crime'], q = 3, labels=['low', 'med', 'high'])"
   ]
  },
  {
   "cell_type": "code",
   "execution_count": 11,
   "metadata": {},
   "outputs": [
    {
     "name": "stdout",
     "output_type": "stream",
     "text": [
      "Index(['address', 'price', 'description', 'bedrooms', 'bathrooms', 'latitude',\n",
      "       'longitude', 'postcode', 'property_id', 'closest_station', 'distance',\n",
      "       'crime', 'park', 'gym', 'shop', 'gym_near', 'park_near', 'shop_near',\n",
      "       'crime_rate'],\n",
      "      dtype='object')\n"
     ]
    }
   ],
   "source": [
    "print(df.columns)"
   ]
  },
  {
   "cell_type": "code",
   "execution_count": 27,
   "metadata": {},
   "outputs": [],
   "source": [
    "# Gather user preferences\n",
    "def gather_user_input():\n",
    "    min_rooms = int(input(\"Min rooms: \"))\n",
    "    max_rooms = int(input(\"Max rooms: \"))\n",
    "    min_price = int(input(\"Min price: \"))\n",
    "    max_price = int(input(\"Max_price: \"))\n",
    "    tube_distance = float(input(\"Max distance from tube station: \"))\n",
    "\n",
    "    return {\n",
    "        'min_rooms': min_rooms,\n",
    "        'max_rooms': max_rooms,\n",
    "        'min_price': min_price,\n",
    "        'max_price': max_price,\n",
    "        'tube_distance': tube_distance\n",
    "    }\n",
    "\n"
   ]
  },
  {
   "cell_type": "code",
   "execution_count": 28,
   "metadata": {},
   "outputs": [],
   "source": [
    "# Conect to SQL database\n",
    "import mysql.connector\n",
    "\n",
    "db_conncetion = mysql.connector.connect(\n",
    "    host = 'localhost',\n",
    "    username = 'root',\n",
    "    password = 'James@0405',\n",
    "    database = 'london_properties'\n",
    ")\n",
    "\n",
    "cursor = db_conncetion.cursor()"
   ]
  },
  {
   "cell_type": "code",
   "execution_count": 33,
   "metadata": {},
   "outputs": [],
   "source": [
    "# Build dynamic query for user preferences\n",
    "def construct_sql_query(user_prefs):\n",
    "    query = \"\"\"\n",
    "    SELECT p.*  \n",
    "    FROM properties p \n",
    "    JOIN tubes t ON p.property_id = t.property_id\n",
    "    WHERE 1=1\n",
    "    \"\"\"\n",
    "    params = []\n",
    "\n",
    "    if user_prefs['min_rooms']:\n",
    "        query += \" AND p.bedrooms >= %s\"\n",
    "        params.append(user_prefs['min_rooms'])\n",
    "    \n",
    "    if user_prefs['max_rooms']:\n",
    "        query += \" AND p.bedrooms <= %s\"\n",
    "        params.append(user_prefs['max_rooms'])\n",
    "\n",
    "    if user_prefs['min_price']:\n",
    "        query += \" AND p.price >= %s\"\n",
    "        params.append(user_prefs['min_price'])\n",
    "\n",
    "    if user_prefs['max_price']:\n",
    "        query += \" AND p.price <= %s\"\n",
    "        params.append(user_prefs['max_price'])\n",
    "    \n",
    "    if user_prefs['tube_distance']:\n",
    "        query += \" AND t.distance <= %s\"\n",
    "        params.append(user_prefs['tube_distance'])\n",
    "    \n",
    "    return query, params\n",
    "\n",
    "    "
   ]
  },
  {
   "cell_type": "code",
   "execution_count": 34,
   "metadata": {},
   "outputs": [],
   "source": [
    "# retreve fltered properties\n",
    "def get_filtererd_properties(user_prefs):\n",
    "    query, params = construct_sql_query(user_prefs)\n",
    "\n",
    "    cursor.execute(query, params)\n",
    "    results = cursor.fetchall()\n",
    "\n",
    "    df = pd.DataFrame(results, columns=[column[0] for column in cursor.description])\n",
    "\n",
    "    return df\n"
   ]
  },
  {
   "cell_type": "code",
   "execution_count": null,
   "metadata": {},
   "outputs": [],
   "source": []
  },
  {
   "cell_type": "code",
   "execution_count": 35,
   "metadata": {},
   "outputs": [
    {
     "name": "stdout",
     "output_type": "stream",
     "text": [
      "                                       address  price  \\\n",
      "0              Wilberforce Road, Finsbury Park   2500   \n",
      "1    Moluccas Point, 24 Canal Approach, London   2200   \n",
      "2                                 Ashmore Road   2500   \n",
      "3                    Coxwell Boulevard, London   2400   \n",
      "4               Mazenod Avenue, West Hampstead   1842   \n",
      "..                                         ...    ...   \n",
      "127                  Berrymead Gardens, London   2200   \n",
      "128                               Kings Parade   2250   \n",
      "129                       Harvard Road, London   2000   \n",
      "130                      Banister Road, London   2500   \n",
      "131                        Aubert Park, London   2400   \n",
      "\n",
      "                                           description  bedrooms  bathrooms  \\\n",
      "0    This rather beautiful first floor maisonette w...         2          1   \n",
      "1    Key features Brand New DevelopmentFully Furnis...         2          0   \n",
      "2    Bright and airy apartment located on the top f...         2          2   \n",
      "3    This beautifully presented two-bedroom, second...         2          2   \n",
      "4    This bright and modern two bedroomed (1 x DOUB...         2          1   \n",
      "..                                                 ...       ...        ...   \n",
      "127  Presenting to the market this delightful first...         2          2   \n",
      "128  **VIDEO VIEWING AVAILABLE** Newly refurbished ...         2          1   \n",
      "129  Located within a short walk of Gunnersbury Sta...         2          1   \n",
      "130  Located on the top floor (with lift) of City V...         2          2   \n",
      "131  A light and bright two bedroom flat in an attr...         2          1   \n",
      "\n",
      "     latitude  longitude postcode                       property_id  \n",
      "0     51.5642  -0.100908   N4 2SN  0e91ce654b6fd59d84c47e7c66fcb6ad  \n",
      "1     51.5072  -0.127586      SE8  e51abaded102fdf9a3a8a1e610e4e50a  \n",
      "2     51.5289  -0.202508       W9  c42ac65b5afd4f537d0e558a3f1d35fb  \n",
      "3     51.6040  -0.242123  NW9 4AB  5c63bc66136f382e758f14661d8416ce  \n",
      "4     51.5413  -0.194220      NW6  c21739a6352b2a11d7fbe637aff3bf72  \n",
      "..        ...        ...      ...                               ...  \n",
      "127   51.5057  -0.268738       W3  c20a6f7d1c250bb3689533b821b51c7b  \n",
      "128   51.5095  -0.229236      W12  6dfbbced5a2ac7397c88d9cebdacca24  \n",
      "129   51.4888  -0.274171       W4  893e7a4d61b5f3dfdff464ff4f8dd846  \n",
      "130   51.5312  -0.216052      W10  de0fa02166e817b483bbb19cd25c38cf  \n",
      "131   51.5555  -0.101903       N5  9c2df7f36b150bf8bae37e739f23bf27  \n",
      "\n",
      "[132 rows x 9 columns]\n"
     ]
    }
   ],
   "source": [
    "user_prefs = gather_user_input()\n",
    "filtered_properties = get_filtererd_properties(user_prefs)\n",
    "\n",
    "if filtered_properties.empty:\n",
    "    print(\"No Porperties match criteria\")\n",
    "else:\n",
    "    print(filtered_properties)"
   ]
  },
  {
   "cell_type": "code",
   "execution_count": null,
   "metadata": {},
   "outputs": [
    {
     "name": "stdout",
     "output_type": "stream",
     "text": [
      "(982, 15)\n"
     ]
    }
   ],
   "source": [
    "# Create tfidfvectorizer\n",
    "tfidf = TfidfVectorizer(stop_words='english', max_features=15)\n",
    "tfidf_matrix = tfidf.fit_transform(df_properties['description'])\n",
    "print(tfidf_matrix.shape)"
   ]
  },
  {
   "cell_type": "code",
   "execution_count": 62,
   "metadata": {},
   "outputs": [],
   "source": [
    "# Calculate cosine similarity with itself\n",
    "cosine_sim = linear_kernel(tfidf_matrix, tfidf_matrix)\n",
    "\n",
    "# Create indices variable\n",
    "indices = pd.Series(df_properties.index, index=df_properties['address']).drop_duplicates()"
   ]
  },
  {
   "cell_type": "code",
   "execution_count": 63,
   "metadata": {},
   "outputs": [],
   "source": [
    "def recommendation_system(address, cosine_sim=cosine_sim, num_recommended=5):\n",
    "    idx = indices[address]  # Get index of the address\n",
    "    sim_scores = list(enumerate(cosine_sim[idx].flatten()))  # Flatten in case it's a 2D array\n",
    "    sim_scores = sorted(sim_scores, key=lambda x: x[1], reverse=True)\n",
    "    \n",
    "    top_sim = sim_scores[1:num_recommended+1]  # Skip the first one as it's the property itself\n",
    "    property_indices = [i[0] for i in top_sim]\n",
    "    \n",
    "    return df_properties['address'].iloc[property_indices]\n",
    "\n",
    "\n"
   ]
  },
  {
   "cell_type": "code",
   "execution_count": 64,
   "metadata": {},
   "outputs": [
    {
     "name": "stdout",
     "output_type": "stream",
     "text": [
      "0               Merchant Square, Paddington\n",
      "1                      Grove Avenue, Sutton\n",
      "2           Wilberforce Road, Finsbury Park\n",
      "3               Strathmore Court, Park Road\n",
      "4                      Graveney Road London\n",
      "                       ...                 \n",
      "977          Wandsworth Bridge Road, Fulham\n",
      "978    One Park Drive, Canary Wharf, London\n",
      "979      Kensington High Street, Kensington\n",
      "980            Ansleigh Place, Notting Hill\n",
      "981             Cleveland Square, Bayswater\n",
      "Name: address, Length: 982, dtype: object\n"
     ]
    }
   ],
   "source": [
    "print(df_properties['address'])"
   ]
  },
  {
   "cell_type": "code",
   "execution_count": 65,
   "metadata": {},
   "outputs": [
    {
     "data": {
      "text/plain": [
       "744    Green Lane, Hendon, London\n",
       "272         Bloxhall Road, Leyton\n",
       "817        Ridgeway Views, London\n",
       "47     Crossharbour Plaza, London\n",
       "56      St. Pauls Terrace, London\n",
       "Name: address, dtype: object"
      ]
     },
     "execution_count": 65,
     "metadata": {},
     "output_type": "execute_result"
    }
   ],
   "source": [
    "recommendation_system('Grove Avenue, Sutton', num_recommended=5)"
   ]
  },
  {
   "cell_type": "code",
   "execution_count": 66,
   "metadata": {},
   "outputs": [
    {
     "name": "stdout",
     "output_type": "stream",
     "text": [
      "address                                   Ridgeway Views, London\n",
      "price                                                       1850\n",
      "description    Brand new one bedroom apartments in Mill Hill,...\n",
      "bedrooms                                                       1\n",
      "bathrooms                                                      1\n",
      "latitude                                               51.617546\n",
      "longitude                                              -0.219787\n",
      "postcode                                                     NW7\n",
      "property_id                     8d6192ce6bb753a0e043b4a5cc72c957\n",
      "Name: 817, dtype: object\n"
     ]
    }
   ],
   "source": [
    "print(df_properties.iloc[817])"
   ]
  },
  {
   "cell_type": "code",
   "execution_count": 61,
   "metadata": {},
   "outputs": [
    {
     "name": "stdout",
     "output_type": "stream",
     "text": [
      "address                                     Grove Avenue, Sutton\n",
      "price                                                       1675\n",
      "description    **AVAILABLE APRIL**Leaders are pleased to offe...\n",
      "bedrooms                                                       2\n",
      "bathrooms                                                      1\n",
      "latitude                                               51.359806\n",
      "longitude                                               -0.20128\n",
      "postcode                                                 SM1 2DA\n",
      "property_id                     0eaca9c01a72e47b55656d34229fbbf1\n",
      "Name: 1, dtype: object\n"
     ]
    }
   ],
   "source": [
    "print(df_properties.iloc[1])"
   ]
  }
 ],
 "metadata": {
  "kernelspec": {
   "display_name": "Python 3",
   "language": "python",
   "name": "python3"
  },
  "language_info": {
   "codemirror_mode": {
    "name": "ipython",
    "version": 3
   },
   "file_extension": ".py",
   "mimetype": "text/x-python",
   "name": "python",
   "nbconvert_exporter": "python",
   "pygments_lexer": "ipython3",
   "version": "3.11.9"
  }
 },
 "nbformat": 4,
 "nbformat_minor": 2
}
