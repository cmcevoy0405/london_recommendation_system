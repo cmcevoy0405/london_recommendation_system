{
 "cells": [
  {
   "cell_type": "code",
   "execution_count": 2,
   "metadata": {},
   "outputs": [],
   "source": [
    "import pandas as pd\n",
    "import requests\n",
    "import time"
   ]
  },
  {
   "cell_type": "code",
   "execution_count": 3,
   "metadata": {},
   "outputs": [],
   "source": [
    "# read in csv\n",
    "df = pd.read_csv(r\"C:\\Users\\mrice\\OneDrive\\Documents\\Data Science - Callum\\Projects\\Financial Projects\\london_house_prices\\london_flats.csv\")\n",
    "\n",
    "# create function\n",
    "def get_crime(lat, lon):\n",
    "    url = f\"https://data.police.uk/api/crimes-street/all-crime?lat={lat}&lng={lon}\"\n",
    "    response = requests.get(url)\n",
    "\n",
    "    if response.status_code == 200:\n",
    "        crimes = response.json()\n",
    "        return len(crimes)\n",
    "    else:\n",
    "        print(f\"API connection failed for {lat}, {lon}\")\n",
    "        return None\n",
    "    "
   ]
  },
  {
   "cell_type": "code",
   "execution_count": 4,
   "metadata": {},
   "outputs": [
    {
     "name": "stdout",
     "output_type": "stream",
     "text": [
      "                        property_id   latitude  longitude  crime\n",
      "0  c03d82e0169b9646f9628c766a820a96  51.518926  -0.173068   1877\n",
      "1  0eaca9c01a72e47b55656d34229fbbf1  51.359806  -0.201280    400\n",
      "2  0e91ce654b6fd59d84c47e7c66fcb6ad  51.564169  -0.100908   1431\n",
      "3  6afcfb6a633839bcb514e31960abbe15  51.529622  -0.167885   1116\n",
      "4  45112861947e9869c0cff0d2b041d13b  51.429787  -0.170103    732\n"
     ]
    }
   ],
   "source": [
    "# Create an empty list to store results\n",
    "crime_data = []\n",
    "\n",
    "# Iterate over rows using itertuples() (which is much faster than apply)\n",
    "for row in df.itertuples(index=False):\n",
    "    crime_count = get_crime(row.latitude, row.longitude)\n",
    "    crime_data.append((row.property_id, row.latitude, row.longitude, crime_count))\n",
    "\n",
    "# Convert the list to a DataFrame\n",
    "crime_df = pd.DataFrame(crime_data, columns=['property_id', 'latitude', 'longitude', 'crime'])\n",
    "\n",
    "print(crime_df.head())\n"
   ]
  },
  {
   "cell_type": "code",
   "execution_count": 5,
   "metadata": {},
   "outputs": [],
   "source": [
    "crime_df.to_csv('crime_data.csv', index=False)"
   ]
  }
 ],
 "metadata": {
  "kernelspec": {
   "display_name": "Python 3",
   "language": "python",
   "name": "python3"
  },
  "language_info": {
   "codemirror_mode": {
    "name": "ipython",
    "version": 3
   },
   "file_extension": ".py",
   "mimetype": "text/x-python",
   "name": "python",
   "nbconvert_exporter": "python",
   "pygments_lexer": "ipython3",
   "version": "3.11.9"
  }
 },
 "nbformat": 4,
 "nbformat_minor": 2
}
