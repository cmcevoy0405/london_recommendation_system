{
 "cells": [
  {
   "cell_type": "code",
   "execution_count": null,
   "metadata": {},
   "outputs": [],
   "source": [
    "import pandas as pd\n",
    "import requests\n",
    "import numpy as np\n",
    "from geopy.distance import geodesic"
   ]
  },
  {
   "cell_type": "code",
   "execution_count": 3,
   "metadata": {},
   "outputs": [],
   "source": [
    "df = pd.read_csv(r\"C:\\Users\\mrice\\OneDrive\\Documents\\Data Science - Callum\\Projects\\Financial Projects\\london_house_prices\\london_flats.csv\")"
   ]
  },
  {
   "cell_type": "code",
   "execution_count": null,
   "metadata": {},
   "outputs": [],
   "source": [
    "def get_tube_stop(lat, lon):\n",
    "    url = \"https://api.tfl.gov.uk/StopPoint\"\n",
    "    params = {\n",
    "        \"stopTypes\": \"NaptanMetroStation\",  # Focus on Metro stations only (tube stations)\n",
    "        \"radius\": 2000,  # Radius of 2 km (can be adjusted)\n",
    "        \"lat\": lat,  \n",
    "        \"lon\": lon, \n",
    "        \"app_id\": \"e6b5f350beb041ce94c1c8793d718fb7\",\n",
    "        \"app_key\": \"efebe289b99e49728f27b9342e3acd7a\"\n",
    "    }\n",
    "\n",
    "    # Make the GET request with the parameters\n",
    "    response = requests.get(url, params=params)\n",
    "\n",
    "    # Check if the request was successful\n",
    "    if response.status_code == 200:\n",
    "        stations = response.json()\n",
    "        if stations and \"stopPoints\" in stations:\n",
    "            \n",
    "            # initialize distance\n",
    "            min_distance = int(2)\n",
    "            nearest_station = None\n",
    "\n",
    "            for stations in stations['stopPoints']:\n",
    "                station_name = stations['commonName']\n",
    "                station_lat = stations['lat']\n",
    "                station_lon = stations['lon']\n",
    "\n",
    "                station_location = (station_lat, station_lon)\n",
    "                property_location = (lat, lon)\n",
    "                distance = geodesic(property_location, station_location).km\n",
    "\n",
    "                if distance < min_distance:\n",
    "                    min_distance = distance\n",
    "                    nearest_station = station_name\n",
    "\n",
    "            return nearest_station, round(min_distance, 2)\n",
    "\n",
    "    return None, None\n",
    "\n"
   ]
  },
  {
   "cell_type": "code",
   "execution_count": null,
   "metadata": {},
   "outputs": [
    {
     "name": "stdout",
     "output_type": "stream",
     "text": [
      "                        property_id   latitude  longitude  \\\n",
      "0  c03d82e0169b9646f9628c766a820a96  51.518926  -0.173068   \n",
      "1  0eaca9c01a72e47b55656d34229fbbf1  51.359806  -0.201280   \n",
      "2  0e91ce654b6fd59d84c47e7c66fcb6ad  51.564169  -0.100908   \n",
      "3  6afcfb6a633839bcb514e31960abbe15  51.529622  -0.167885   \n",
      "4  45112861947e9869c0cff0d2b041d13b  51.429787  -0.170103   \n",
      "\n",
      "                               closest_station  distance  \n",
      "0  Edgware Road (Bakerloo) Underground Station      0.25  \n",
      "1                                         None       inf  \n",
      "2            Finsbury Park Underground Station      0.41  \n",
      "3          St. John's Wood Underground Station      0.69  \n",
      "4         Tooting Broadway Underground Station      0.27  \n"
     ]
    }
   ],
   "source": [
    "# Create an empty list to store results\n",
    "tube_data = []\n",
    "\n",
    "# Iterate over rows using itertuples() (which is much faster than apply)\n",
    "for row in df.itertuples(index=False):\n",
    "    closest_station, distance = get_tube_stop(row.latitude, row.longitude)\n",
    "    tube_data.append((row.property_id, row.latitude, row.longitude, closest_station, distance))\n",
    "\n",
    "# Convert the list to a DataFrame\n",
    "tube_df = pd.DataFrame(tube_data, columns=['property_id', 'latitude', 'longitude', 'closest_station', 'distance'])\n",
    "\n",
    "print(tube_df.head())\n",
    "\n",
    "\n"
   ]
  },
  {
   "cell_type": "code",
   "execution_count": 6,
   "metadata": {},
   "outputs": [],
   "source": [
    "tube_df.to_csv(\"stations.csv\", index=False)"
   ]
  }
 ],
 "metadata": {
  "kernelspec": {
   "display_name": "Python 3",
   "language": "python",
   "name": "python3"
  },
  "language_info": {
   "codemirror_mode": {
    "name": "ipython",
    "version": 3
   },
   "file_extension": ".py",
   "mimetype": "text/x-python",
   "name": "python",
   "nbconvert_exporter": "python",
   "pygments_lexer": "ipython3",
   "version": "3.11.9"
  }
 },
 "nbformat": 4,
 "nbformat_minor": 2
}
