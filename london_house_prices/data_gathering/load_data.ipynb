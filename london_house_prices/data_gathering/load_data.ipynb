{
 "cells": [
  {
   "cell_type": "code",
   "execution_count": 1,
   "metadata": {},
   "outputs": [],
   "source": [
    "import csv \n",
    "import MySQLdb\n",
    "import pandas as pd"
   ]
  },
  {
   "cell_type": "code",
   "execution_count": 2,
   "metadata": {},
   "outputs": [
    {
     "name": "stdout",
     "output_type": "stream",
     "text": [
      "Done! 🚀\n"
     ]
    }
   ],
   "source": [
    "import MySQLdb\n",
    "\n",
    "# MySQL Connection\n",
    "mydb = MySQLdb.connect(\n",
    "    host='localhost',\n",
    "    user='root',\n",
    "    passwd='James@0405',\n",
    "    db='london_properties',\n",
    "    local_infile=1  # Enable local file loading\n",
    ")\n",
    "cursor = mydb.cursor()\n",
    "\n",
    "# Load CSV directly into MySQL\n",
    "query = \"\"\"\n",
    "    LOAD DATA LOCAL INFILE 'london_flats.csv'\n",
    "    INTO TABLE properties\n",
    "    FIELDS TERMINATED BY ',' \n",
    "    ENCLOSED BY '\"' \n",
    "    LINES TERMINATED BY '\\n'\n",
    "    IGNORE 1 ROWS;\n",
    "\"\"\"\n",
    "cursor.execute(query)\n",
    "mydb.commit()\n",
    "\n",
    "cursor.close()\n",
    "mydb.close()\n",
    "\n",
    "print(\"Done! 🚀\")\n",
    "\n"
   ]
  },
  {
   "cell_type": "code",
   "execution_count": 5,
   "metadata": {},
   "outputs": [
    {
     "name": "stdout",
     "output_type": "stream",
     "text": [
      "Done! 🚀\n"
     ]
    }
   ],
   "source": [
    "import MySQLdb\n",
    "\n",
    "# MySQL Connection\n",
    "mydb = MySQLdb.connect(\n",
    "    host='localhost',\n",
    "    user='root',\n",
    "    passwd='James@0405',\n",
    "    db='london_properties',\n",
    "    local_infile=1  # Enable local file loading\n",
    ")\n",
    "cursor = mydb.cursor()\n",
    "\n",
    "# Load CSV directly into MySQL\n",
    "query = \"\"\"\n",
    "    LOAD DATA LOCAL INFILE 'crime_data.csv'\n",
    "    INTO TABLE crime\n",
    "    FIELDS TERMINATED BY ',' \n",
    "    ENCLOSED BY '\"' \n",
    "    LINES TERMINATED BY '\\n'\n",
    "    IGNORE 1 ROWS;\n",
    "\"\"\"\n",
    "cursor.execute(query)\n",
    "mydb.commit()\n",
    "\n",
    "cursor.close()\n",
    "mydb.close()\n",
    "\n",
    "print(\"Done! 🚀\")"
   ]
  },
  {
   "cell_type": "code",
   "execution_count": 6,
   "metadata": {},
   "outputs": [],
   "source": [
    "import MySQLdb\n",
    "\n",
    "# MySQL Connection\n",
    "mydb = MySQLdb.connect(\n",
    "    host='localhost',\n",
    "    user='root',\n",
    "    passwd='James@0405',\n",
    "    db='london_properties',\n",
    "    local_infile=1  # Enable local file loading\n",
    ")\n",
    "cursor = mydb.cursor()\n",
    "\n",
    "# Load CSV directly into MySQL\n",
    "query = \"\"\"\n",
    "    LOAD DATA LOCAL INFILE 'stations.csv'\n",
    "    INTO TABLE tubes\n",
    "    FIELDS TERMINATED BY ',' \n",
    "    ENCLOSED BY '\"' \n",
    "    LINES TERMINATED BY '\\n'\n",
    "    IGNORE 1 ROWS;\n",
    "\"\"\"\n",
    "cursor.execute(query)\n",
    "mydb.commit()\n",
    "\n",
    "cursor.close()\n",
    "mydb.close()"
   ]
  },
  {
   "cell_type": "code",
   "execution_count": 3,
   "metadata": {},
   "outputs": [],
   "source": [
    "import MySQLdb\n",
    "\n",
    "# MySQL Connection\n",
    "mydb = MySQLdb.connect(\n",
    "    host='localhost',\n",
    "    user='root',\n",
    "    passwd='James@0405',\n",
    "    db='london_properties',\n",
    "    local_infile=1  # Enable local file loading\n",
    ")\n",
    "cursor = mydb.cursor()\n",
    "\n",
    "# Load CSV directly into MySQL\n",
    "query = \"\"\"\n",
    "    LOAD DATA LOCAL INFILE 'amenities.csv'\n",
    "    INTO TABLE amenities\n",
    "    FIELDS TERMINATED BY ',' \n",
    "    ENCLOSED BY '\"' \n",
    "    LINES TERMINATED BY '\\n'\n",
    "    IGNORE 1 ROWS;\n",
    "\"\"\"\n",
    "cursor.execute(query)\n",
    "mydb.commit()\n",
    "\n",
    "cursor.close()\n",
    "mydb.close()"
   ]
  },
  {
   "cell_type": "code",
   "execution_count": 4,
   "metadata": {},
   "outputs": [
    {
     "name": "stdout",
     "output_type": "stream",
     "text": [
      "                                   address  price  \\\n",
      "0              Merchant Square, Paddington   9966   \n",
      "1                     Grove Avenue, Sutton   1675   \n",
      "2          Wilberforce Road, Finsbury Park   2500   \n",
      "3              Strathmore Court, Park Road   8790   \n",
      "4                     Graveney Road London   2650   \n",
      "...                                    ...    ...   \n",
      "1043  One Park Drive, Canary Wharf, London   3800   \n",
      "1044    Kensington High Street, Kensington   1777   \n",
      "1045          Ansleigh Place, Notting Hill   8996   \n",
      "1046           Cleveland Square, Bayswater   3792   \n",
      "1047           Cleveland Square, Bayswater   3792   \n",
      "\n",
      "                                            description  bedrooms  bathrooms  \\\n",
      "0     A stunning interior designed apartment with wa...         4          3   \n",
      "1     **AVAILABLE APRIL**Leaders are pleased to offe...         2          1   \n",
      "2     This rather beautiful first floor maisonette w...         2          1   \n",
      "3     Spacious six bedroom apartment set over 2553 s...         6          2   \n",
      "4     A spacious three double bedroom house offering...         3          1   \n",
      "...                                                 ...       ...        ...   \n",
      "1043  ** Available Now ** Experience luxury living i...         1          1   \n",
      "1044  ** Landlord pay for the gas central heating/ho...         0          1   \n",
      "1045  A spectacular three-bedroom architect designed...         3          3   \n",
      "1046  A modern and well presented top floor two bedr...         2          2   \n",
      "1047  A modern and well presented top floor two bedr...         2          2   \n",
      "\n",
      "      latitude_x  longitude_x postcode                       property_id  \\\n",
      "0      51.518926    -0.173068       W2  c03d82e0169b9646f9628c766a820a96   \n",
      "1      51.359806    -0.201280  SM1 2DA  0eaca9c01a72e47b55656d34229fbbf1   \n",
      "2      51.564169    -0.100908   N4 2SN  0e91ce654b6fd59d84c47e7c66fcb6ad   \n",
      "3      51.529622    -0.167885      NW8  6afcfb6a633839bcb514e31960abbe15   \n",
      "4      51.429787    -0.170103     SW17  45112861947e9869c0cff0d2b041d13b   \n",
      "...          ...          ...      ...                               ...   \n",
      "1043   51.502277    -0.015116      E14  439595d7e8259e368b64d5cb06a3a60a   \n",
      "1044   51.499467    -0.197301       W8  19cd1f1ec1bdcab9551e17b17768c270   \n",
      "1045   51.511388    -0.216614      W11  f097356ceac5c44860af0dc4dee9f915   \n",
      "1046   51.514251    -0.182495   W2 6DT  4e85d09779c4d6c9c6cebe5e50acfc17   \n",
      "1047   51.514251    -0.182495   W2 6DT  4e85d09779c4d6c9c6cebe5e50acfc17   \n",
      "\n",
      "      latitude_y  longitude_y                         park  \\\n",
      "0      51.518926    -0.173068              Italian Gardens   \n",
      "1      51.359806    -0.201280                 Overton Park   \n",
      "2      51.564169    -0.100908                Clissold Park   \n",
      "3      51.529622    -0.167885            The Regent's Park   \n",
      "4      51.429787    -0.170103      Fishponds Playing Field   \n",
      "...          ...          ...                          ...   \n",
      "1043   51.502277    -0.015116  Crossrail Place Roof Garden   \n",
      "1044   51.499467    -0.197301                 Holland Park   \n",
      "1045   51.511388    -0.216614                Avondale Park   \n",
      "1046   51.514251    -0.182495           Kensington Gardens   \n",
      "1047   51.514251    -0.182495           Kensington Gardens   \n",
      "\n",
      "                                  gym                    shop  \n",
      "0              Royal Lancaster London                    ALDI  \n",
      "1         PureGym Sutton Times Square  Asda Sutton Superstore  \n",
      "2               Sobell Leisure Centre        Tesco Superstore  \n",
      "3               1Rebel St John's Wood                    ALDI  \n",
      "4              Tooting Leisure Centre             Sainsbury's  \n",
      "...                               ...                     ...  \n",
      "1043         Third Space Canary Wharf     Waitrose & Partners  \n",
      "1044           David Lloyd Kensington        Tesco Superstore  \n",
      "1045  Westway Sports & Fitness Centre                    Lidl  \n",
      "1046           Royal Lancaster London     Waitrose & Partners  \n",
      "1047           Royal Lancaster London     Waitrose & Partners  \n",
      "\n",
      "[1048 rows x 14 columns]\n"
     ]
    }
   ],
   "source": [
    "properties_df = pd.read_csv(r'C:\\Users\\mrice\\OneDrive\\Documents\\Data Science - Callum\\Projects\\Financial Projects\\london_house_prices\\london_flats.csv')\n",
    "amen_df = pd.read_csv(r'C:\\Users\\mrice\\OneDrive\\Documents\\Data Science - Callum\\Projects\\Financial Projects\\london_house_prices\\amenities.csv')\n",
    "\n",
    "mix_df = pd.merge(properties_df, amen_df, on = 'property_id', how='left')\n",
    "print(mix_df)"
   ]
  },
  {
   "cell_type": "code",
   "execution_count": null,
   "metadata": {},
   "outputs": [],
   "source": []
  }
 ],
 "metadata": {
  "kernelspec": {
   "display_name": "Python 3",
   "language": "python",
   "name": "python3"
  },
  "language_info": {
   "codemirror_mode": {
    "name": "ipython",
    "version": 3
   },
   "file_extension": ".py",
   "mimetype": "text/x-python",
   "name": "python",
   "nbconvert_exporter": "python",
   "pygments_lexer": "ipython3",
   "version": "3.11.9"
  }
 },
 "nbformat": 4,
 "nbformat_minor": 2
}
