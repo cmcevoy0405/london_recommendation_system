{
 "cells": [
  {
   "cell_type": "code",
   "execution_count": 1,
   "metadata": {},
   "outputs": [
    {
     "name": "stdout",
     "output_type": "stream",
     "text": [
      "                                 address  price  \\\n",
      "348  Lexington Building, The Bow Quarter   2000   \n",
      "\n",
      "                                           description  bedrooms  bathrooms  \\\n",
      "348  Split level 2 bedroom apartment set within Bow...         2          1   \n",
      "\n",
      "      latitude  longitude postcode                       property_id  \n",
      "348  51.531311  -0.021966       E3  48c5abd86af55a48ce9db3b58764a94d  \n"
     ]
    }
   ],
   "source": [
    "import pandas as pd\n",
    "\n",
    "df = pd.read_csv(r\"C:\\Users\\mrice\\OneDrive\\Documents\\Data Science - Callum\\Projects\\Financial Projects\\london_house_prices\\data_gathering\\london_flats.csv\")\n",
    "\n",
    "print(df[df['property_id'] == \"48c5abd86af55a48ce9db3b58764a94d\"])"
   ]
  }
 ],
 "metadata": {
  "kernelspec": {
   "display_name": "Python 3",
   "language": "python",
   "name": "python3"
  },
  "language_info": {
   "codemirror_mode": {
    "name": "ipython",
    "version": 3
   },
   "file_extension": ".py",
   "mimetype": "text/x-python",
   "name": "python",
   "nbconvert_exporter": "python",
   "pygments_lexer": "ipython3",
   "version": "3.11.9"
  }
 },
 "nbformat": 4,
 "nbformat_minor": 2
}
